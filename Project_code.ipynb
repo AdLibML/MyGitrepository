{
 "cells": [
  {
   "cell_type": "code",
   "execution_count": 4,
   "metadata": {},
   "outputs": [],
   "source": [
    "# New project code\n",
    "\n",
    "import numpy as np\n",
    "\n",
    "A=np.zeros(4)\n",
    "A=A+1\n",
    "\n",
    "\n",
    "# Adding a B table , advancing the code to recommit into git\n",
    "\n",
    "B=A*10\n",
    "\n",
    "\n",
    "C=A+B # Was modified in the dev branch\n",
    "\n",
    "D=C**2"
   ]
  }
 ],
 "metadata": {
  "kernelspec": {
   "display_name": "Python 3",
   "language": "python",
   "name": "python3"
  },
  "language_info": {
   "codemirror_mode": {
    "name": "ipython",
    "version": 3
   },
   "file_extension": ".py",
   "mimetype": "text/x-python",
   "name": "python",
   "nbconvert_exporter": "python",
   "pygments_lexer": "ipython3",
   "version": "3.6.10"
  }
 },
 "nbformat": 4,
 "nbformat_minor": 4
}
